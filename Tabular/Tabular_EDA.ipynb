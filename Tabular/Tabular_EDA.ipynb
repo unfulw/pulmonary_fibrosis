{
 "cells": [
  {
   "cell_type": "markdown",
   "id": "47c6cfe0",
   "metadata": {},
   "source": [
    "Exploratory Data Analysis on the patient demographics"
   ]
  },
  {
   "cell_type": "code",
   "execution_count": 1,
   "id": "050ab520",
   "metadata": {},
   "outputs": [],
   "source": [
    "import numpy as np\n",
    "import pandas as pd\n",
    "import matplotlib.pyplot as plt"
   ]
  },
  {
   "cell_type": "code",
   "execution_count": 2,
   "id": "148c08b8",
   "metadata": {},
   "outputs": [
    {
     "name": "stdout",
     "output_type": "stream",
     "text": [
      "                     Patient  Weeks   FVC    Percent  Age   Sex SmokingStatus\n",
      "0  ID00007637202177411956430     -4  2315  58.253649   79  Male     Ex-smoker\n",
      "1  ID00007637202177411956430      5  2214  55.712129   79  Male     Ex-smoker\n",
      "2  ID00007637202177411956430      7  2061  51.862104   79  Male     Ex-smoker\n",
      "3  ID00007637202177411956430      9  2144  53.950679   79  Male     Ex-smoker\n",
      "4  ID00007637202177411956430     11  2069  52.063412   79  Male     Ex-smoker\n",
      "5  ID00007637202177411956430     17  2101  52.868646   79  Male     Ex-smoker\n",
      "6  ID00007637202177411956430     29  2000  50.327126   79  Male     Ex-smoker\n",
      "7  ID00007637202177411956430     41  2064  51.937594   79  Male     Ex-smoker\n",
      "8  ID00007637202177411956430     57  2057  51.761449   79  Male     Ex-smoker\n",
      "9  ID00009637202177434476278      8  3660  85.282878   69  Male     Ex-smoker\n"
     ]
    }
   ],
   "source": [
    "data = pd.read_csv(\"train.csv\")\n",
    "print(data[:10])"
   ]
  },
  {
   "cell_type": "markdown",
   "id": "5b613d42",
   "metadata": {},
   "source": [
    "Outline of what each columns represent:  \n",
    "Patient(str): unique ID for each patient  \n",
    "Weeks(int): the relative number of weeks pre/post the baseline CT scan  \n",
    "FVC(int): the recorded lung capacity in ml  \n",
    "Percent(float): a computed field which approximates the patient's FVC as a percent of the typical FVC for a person of similar characteristics  \n",
    "Age(int), Sex(str), SmokingStatus(str)"
   ]
  },
  {
   "cell_type": "markdown",
   "id": "4ce9ae5e",
   "metadata": {},
   "source": [
    "First, the rows are grouped by weeks, to attempt to identify trends in change in FVC and Percent over time."
   ]
  },
  {
   "cell_type": "code",
   "execution_count": 4,
   "id": "a65017c9",
   "metadata": {},
   "outputs": [
    {
     "data": {
      "image/png": "[encoded data removed]",
      "text/plain": [
       "<Figure size 640x480 with 1 Axes>"
      ]
     },
     "metadata": {},
     "output_type": "display_data"
    }
   ],
   "source": [
    "bin_width = 5\n",
    "bins = np.arange(min(data[\"Weeks\"]), max(data[\"Weeks\"]) + bin_width, bin_width)\n",
    "\n",
    "weeks_dist = plt.hist(data[\"Weeks\"], bins=bins)"
   ]
  },
  {
   "cell_type": "markdown",
   "id": "810403cf",
   "metadata": {},
   "source": [
    "For now, FVC readings measured pre-CT scans are dropped, then readings are grouped by Weeks, at a 5-week interval."
   ]
  },
  {
   "cell_type": "code",
   "execution_count": null,
   "id": "2743e43b",
   "metadata": {},
   "outputs": [],
   "source": [
    "post_CT_data = data[data[\"Weeks\"]>=0]\n"
   ]
  }
 ],
 "metadata": {
  "kernelspec": {
   "display_name": "Python 3",
   "language": "python",
   "name": "python3"
  },
  "language_info": {
   "codemirror_mode": {
    "name": "ipython",
    "version": 3
   },
   "file_extension": ".py",
   "mimetype": "text/x-python",
   "name": "python",
   "nbconvert_exporter": "python",
   "pygments_lexer": "ipython3",
   "version": "3.13.1"
  }
 },
 "nbformat": 4,
 "nbformat_minor": 5
}
