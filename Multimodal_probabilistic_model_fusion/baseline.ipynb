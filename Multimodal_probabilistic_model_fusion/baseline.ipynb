{
 "cells": [
  {
   "cell_type": "markdown",
   "id": "416821a0",
   "metadata": {},
   "source": [
    "For the tabular portion of the multimodal probabilistic model fusion, a novel boosting method known as NGBoost is used. NGBoost is a boosting method that uses a series of weak tree-based learner, where it returns a predictive probability distribution instead of a point estimate, which is done by minimizing the negative log-likelihood."
   ]
  },
  {
   "cell_type": "code",
   "execution_count": 10,
   "id": "17b78aff",
   "metadata": {},
   "outputs": [],
   "source": [
    "import numpy as np\n",
    "import pandas as pd\n",
    "from pathlib import Path\n",
    "from ngboost import NGBRegressor\n",
    "from ngboost.distns import Normal\n",
    "from sklearn.model_selection import train_test_split"
   ]
  },
  {
   "cell_type": "markdown",
   "id": "5f3de379",
   "metadata": {},
   "source": [
    "For train-test split, it is done by unique patient IDs, as each row in the CSV is not a unique entry, but a series of rows for each patient ID is. Then, the corresponding y (outcome) only is the FVC value in the last recorded week for each patient."
   ]
  },
  {
   "cell_type": "code",
   "execution_count": null,
   "id": "2ba008f1",
   "metadata": {},
   "outputs": [],
   "source": [
    "BASE_DIR = Path().resolve()\n",
    "csv_path = BASE_DIR.parent / \"data\" / \"train.csv\"\n",
    "\n",
    "df = pd.read_csv(csv_path)\n",
    "\n",
    "ids = df['Patient'].unique()\n",
    "train_ids, val_ids = train_test_split(ids, test_size=0.2, random_state=42)\n",
    "\n",
    "train_df = df[df['Patient'].isin(train_ids)].reset_index(drop=True)\n",
    "val_df   = df[df['Patient'].isin(val_ids)].reset_index(drop=True)"
   ]
  }
 ],
 "metadata": {
  "kernelspec": {
   "display_name": "Python 3",
   "language": "python",
   "name": "python3"
  },
  "language_info": {
   "codemirror_mode": {
    "name": "ipython",
    "version": 3
   },
   "file_extension": ".py",
   "mimetype": "text/x-python",
   "name": "python",
   "nbconvert_exporter": "python",
   "pygments_lexer": "ipython3",
   "version": "3.13.1"
  }
 },
 "nbformat": 4,
 "nbformat_minor": 5
}
