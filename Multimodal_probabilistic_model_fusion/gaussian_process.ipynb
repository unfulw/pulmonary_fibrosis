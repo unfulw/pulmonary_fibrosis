{
 "cells": [
  {
   "cell_type": "markdown",
   "id": "416821a0",
   "metadata": {},
   "source": [
    "For the tabular portion of the multimodal probabilistic model fusion, Gaussian Process is used, as it is particularly effective in capturing trends in time-series data, even with a small and irregular dataset. Gaussian Process is a stochastic learning method that learns the transition probability in a continuous time-scale by conditioning each discrete time-series data point with interpolated time intervals."
   ]
  },
  {
   "cell_type": "code",
   "execution_count": 43,
   "id": "17b78aff",
   "metadata": {},
   "outputs": [],
   "source": [
    "import numpy as np\n",
    "import pandas as pd\n",
    "from pathlib import Path\n",
    "import torch\n",
    "import gpytorch\n",
    "import matplotlib.pyplot as plt\n",
    "from gpytorch.kernels import ScaleKernel, MaternKernel, RBFKernel, IndexKernel\n",
    "from gpytorch.means import ConstantMean\n",
    "from gpytorch.likelihoods import GaussianLikelihood\n",
    "from sklearn.preprocessing import StandardScaler, LabelEncoder\n",
    "from sklearn.model_selection import train_test_split\n",
    "from sklearn.metrics import mean_squared_error, r2_score"
   ]
  },
  {
   "cell_type": "markdown",
   "id": "5f3de379",
   "metadata": {},
   "source": [
    "For train-test split, it is done by unique patient IDs, as each row in the CSV is not a unique entry, but a series of rows for each patient ID is. Thus, the corresponding y (outcome) only is the FVC value in the last recorded week for each patient. \n",
    "\n",
    "Then, numerical features are normalized to ensure their equal weightage, followed by conversion to pyTorch tensors.\n",
    "\n"
   ]
  },
  {
   "cell_type": "code",
   "execution_count": 38,
   "id": "2ba008f1",
   "metadata": {},
   "outputs": [],
   "source": [
    "BASE_DIR = Path().resolve()\n",
    "csv_path = BASE_DIR.parent / \"data\" / \"train.csv\"\n",
    "\n",
    "df = pd.read_csv(csv_path).drop(columns = [\"Percent\"])\n",
    "\n",
    "ids = df['Patient'].unique()\n",
    "train_ids, val_ids = train_test_split(ids, test_size=0.2, random_state=3244)\n",
    "\n",
    "train_df = df[df['Patient'].isin(train_ids)].reset_index(drop=True)\n",
    "val_df   = df[df['Patient'].isin(val_ids)].reset_index(drop=True)\n",
    "\n",
    "time_scaler = StandardScaler()\n",
    "fvc_scaler = StandardScaler()\n",
    "train_df[\"Weeks_scaled\"] = time_scaler.fit_transform(train_df[[\"Weeks\"]])\n",
    "train_df[\"FVC_scaled\"] = fvc_scaler.fit_transform(train_df[[\"FVC\"]])\n",
    "val_df[\"Weeks_scaled\"] = time_scaler.transform(val_df[[\"Weeks\"]])\n",
    "val_df[\"FVC_scaled\"] = fvc_scaler.transform(val_df[[\"FVC\"]])\n",
    "train_df = train_df.sort_values([\"Patient\", \"Weeks\"]).reset_index(drop=True)\n",
    "\n",
    "#tidying validation dataframe (collapsing rows)\n",
    "first_week = val_df.loc[val_df.groupby(\"Patient\")[\"Weeks\"].idxmin(), [\"Patient\", \"Age\", \"Sex\", \"SmokingStatus\", \"Weeks_scaled\", \"FVC_scaled\"]]\n",
    "last_week  = val_df.loc[val_df.groupby(\"Patient\")[\"Weeks\"].idxmax(), [\"Patient\", \"Weeks_scaled\"]]\n",
    "first_week = first_week.sort_values(\"Patient\").reset_index(drop=True)\n",
    "last_week  = last_week.sort_values(\"Patient\").reset_index(drop=True)\n",
    "dweek = last_week[\"Weeks_scaled\"].values - first_week[\"Weeks_scaled\"].values\n",
    "\n",
    "val_df = val_df.loc[val_df.groupby(\"Patient\")[\"Weeks_scaled\"].idxmin(), [\"Patient\", \"Age\", \"Sex\", \"SmokingStatus\", \"Weeks_scaled\", \"FVC_scaled\"]]\n",
    "val_df[\"Weeks_scaled\"] = dweek\n",
    "val_df = val_df.sort_values([\"Patient\"]).reset_index(drop=True)\n"
   ]
  },
  {
   "cell_type": "markdown",
   "id": "bf59d5dc",
   "metadata": {},
   "source": [
    "Now that the preprocessing is complete, model is built with separate kernels for the time series, and each categorical feature."
   ]
  },
  {
   "cell_type": "code",
   "execution_count": 40,
   "id": "1191ebd2",
   "metadata": {},
   "outputs": [
    {
     "name": "stdout",
     "output_type": "stream",
     "text": [
      "equal: True shape: torch.Size([1234, 1]) torch.Size([1234, 1]) dtype: torch.float32 torch.float32 device: cpu cpu\n",
      "equal: True shape: torch.Size([1234, 1]) torch.Size([1234, 1]) dtype: torch.float32 torch.float32 device: cpu cpu\n",
      "equal: True shape: torch.Size([1234, 1]) torch.Size([1234, 1]) dtype: torch.int64 torch.int64 device: cpu cpu\n",
      "equal: True shape: torch.Size([1234, 1]) torch.Size([1234, 1]) dtype: torch.int64 torch.int64 device: cpu cpu\n"
     ]
    },
    {
     "name": "stderr",
     "output_type": "stream",
     "text": [
      "c:\\Users\\rlaal\\AppData\\Local\\Programs\\Python\\Python313\\Lib\\site-packages\\linear_operator\\utils\\interpolation.py:71: UserWarning: torch.sparse.SparseTensor(indices, values, shape, *, device=) is deprecated.  Please use torch.sparse_coo_tensor(indices, values, shape, dtype=, device=). (Triggered internally at C:\\actions-runner\\_work\\pytorch\\pytorch\\pytorch\\torch\\csrc\\utils\\tensor_new.cpp:656.)\n",
      "  summing_matrix = cls(summing_matrix_indices, summing_matrix_values, size)\n"
     ]
    }
   ],
   "source": [
    "X_time_train = torch.tensor(train_df[[\"Weeks_scaled\"]].values, dtype=torch.float32)\n",
    "X_age_train = torch.tensor(train_df[[\"Age\"]].values, dtype=torch.float32)\n",
    "\n",
    "sex_map = {k:i for i,k in enumerate(train_df[\"Sex\"].astype(\"category\").cat.categories)}\n",
    "smk_map = {k:i for i,k in enumerate(train_df[\"SmokingStatus\"].astype(\"category\").cat.categories)}\n",
    "sex_train = torch.tensor(train_df[\"Sex\"].map(sex_map).values, dtype=torch.long).unsqueeze(-1)\n",
    "smk_train = torch.tensor(train_df[\"SmokingStatus\"].map(smk_map).values, dtype=torch.long).unsqueeze(-1)\n",
    "\n",
    "y_train = torch.tensor(train_df[\"FVC_scaled\"].values, dtype=torch.float32)\n",
    "\n",
    "class MixedKernel(torch.nn.Module):\n",
    "    has_lengthscale = False\n",
    "    def __init__(self):\n",
    "        super().__init__()\n",
    "        self.time = ScaleKernel(MaternKernel(nu=1.5))\n",
    "        self.age  = ScaleKernel(RBFKernel())\n",
    "\n",
    "        self.sex  = IndexKernel(num_tasks=len(sex_map), rank=2)\n",
    "        self.smk  = IndexKernel(num_tasks=len(smk_map), rank=2)\n",
    "\n",
    "    def forward(self, x_time, x_age, x_sex, x_smk, diag=False, **params):\n",
    "        Kt = self.time(x_time, x_time, diag=diag)\n",
    "        Ka = self.age(x_age,  x_age,  diag=diag)\n",
    "\n",
    "        Ks  = self.sex(x_sex,  x_sex)\n",
    "        Km  = self.smk(x_smk,  x_smk)\n",
    "\n",
    "        Kdemo = Ka + Ks + Km\n",
    "        return Kt * Kdemo \n",
    "    \n",
    "\n",
    "class ExactGPModel(gpytorch.models.ExactGP):\n",
    "    def __init__(self, Xt, Xage, Xsex, Xsmk, y, likelihood):\n",
    "        super().__init__(train_inputs=(Xt, Xage, Xsex, Xsmk), train_targets=y, likelihood=likelihood)\n",
    "        self.mean_module = ConstantMean()\n",
    "        self.covar_module = MixedKernel()\n",
    "\n",
    "    def forward(self, Xt, Xage, Xsex, Xsmk):\n",
    "        mean = self.mean_module(torch.cat([Xt, Xage], dim=-1)) \n",
    "        covar = self.covar_module(Xt, Xage, Xsex, Xsmk)\n",
    "        return gpytorch.distributions.MultivariateNormal(mean, covar)\n",
    "\n",
    "likelihood = GaussianLikelihood()\n",
    "model = ExactGPModel(X_time_train, X_age_train, sex_train, smk_train, y_train, likelihood)\n",
    "\n",
    "model.train(); likelihood.train()\n",
    "optimizer = torch.optim.Adam(model.parameters(), lr=0.05)\n",
    "mll = gpytorch.mlls.ExactMarginalLogLikelihood(likelihood, model)\n",
    "\n",
    "for a, b in zip(model.train_inputs, (X_time_train, X_age_train, sex_train, smk_train)):\n",
    "    print(\"equal:\", torch.equal(a, b), \"shape:\", a.shape, b.shape, \"dtype:\", a.dtype, b.dtype, \"device:\", a.device, b.device)\n",
    "\n",
    "for i in range(200):  \n",
    "    optimizer.zero_grad()\n",
    "    output = model(*model.train_inputs)\n",
    "    loss = -mll(output, y_train)\n",
    "    loss.backward()\n",
    "    optimizer.step()\n",
    "\n",
    "\n",
    "model.eval(); likelihood.eval()\n",
    "\n",
    "Xc_val  = torch.tensor(val_df[[\"Weeks_scaled\",\"Age\"]].values, dtype=torch.float32)\n",
    "sex_val = torch.tensor(val_df[\"Sex\"].map(sex_map).values, dtype=torch.long).unsqueeze(-1)\n",
    "smk_val = torch.tensor(val_df[\"SmokingStatus\"].map(smk_map).values, dtype=torch.long).unsqueeze(-1)\n",
    "\n",
    "with torch.no_grad(), gpytorch.settings.fast_pred_var():\n",
    "    X_time_val = torch.tensor(val_df[[\"Weeks_scaled\"]].values, dtype=torch.float32)\n",
    "    X_age_val  = torch.tensor(val_df[[\"Age\"]].values,          dtype=torch.float32)\n",
    "    pred = likelihood(model(X_time_val, X_age_val, sex_val, smk_val))   \n",
    "    y_mean = pred.mean.numpy()\n",
    "    y_std  = pred.variance.sqrt().numpy()"
   ]
  },
  {
   "cell_type": "code",
   "execution_count": 46,
   "id": "5838ddee",
   "metadata": {},
   "outputs": [
    {
     "name": "stdout",
     "output_type": "stream",
     "text": [
      "RMSE: 0.8943, R²: -0.0581\n"
     ]
    },
    {
     "data": {
      "image/png": "[encoded data removed]",
      "text/plain": [
       "<Figure size 640x480 with 1 Axes>"
      ]
     },
     "metadata": {},
     "output_type": "display_data"
    }
   ],
   "source": [
    "model.eval()\n",
    "likelihood.eval()\n",
    "\n",
    "X_time_val = torch.as_tensor(val_df[[\"Weeks_scaled\"]].values, dtype=torch.float32)\n",
    "X_age_val  = torch.as_tensor(val_df[[\"Age\"]].values,          dtype=torch.float32)\n",
    "sex_val    = torch.as_tensor(val_df[\"Sex\"].map(sex_map).values, dtype=torch.long).unsqueeze(-1)\n",
    "smk_val    = torch.as_tensor(val_df[\"SmokingStatus\"].map(smk_map).values, dtype=torch.long).unsqueeze(-1)\n",
    "\n",
    "y_true = torch.as_tensor(val_df[\"FVC_scaled\"].values, dtype=torch.float32)\n",
    "\n",
    "with torch.no_grad(), gpytorch.settings.fast_pred_var():\n",
    "    pred = likelihood(model(X_time_val, X_age_val, sex_val, smk_val))\n",
    "\n",
    "y_mean = pred.mean.cpu().numpy()\n",
    "y_std  = pred.variance.sqrt().cpu().numpy()\n",
    "y_true = y_true.cpu().numpy()\n",
    "\n",
    "rmse = np.sqrt(mean_squared_error(y_true, y_mean))\n",
    "r2   = r2_score(y_true, y_mean)\n",
    "print(f\"RMSE: {rmse:.4f}, R²: {r2:.4f}\")\n",
    "\n",
    "\n",
    "plt.figure()\n",
    "plt.errorbar(y_true, y_mean, yerr=2*y_std, fmt='o', alpha=0.5, ecolor='lightgray')\n",
    "plt.plot([-3,3],[-3,3],'r--')  # 1:1 line if still scaled\n",
    "plt.xlabel(\"True FVC (scaled)\")\n",
    "plt.ylabel(\"Predicted FVC (scaled)\")\n",
    "plt.title(\"Population-level GP Predictions (95% CI)\")\n",
    "plt.show()\n"
   ]
  }
 ],
 "metadata": {
  "kernelspec": {
   "display_name": "Python 3",
   "language": "python",
   "name": "python3"
  },
  "language_info": {
   "codemirror_mode": {
    "name": "ipython",
    "version": 3
   },
   "file_extension": ".py",
   "mimetype": "text/x-python",
   "name": "python",
   "nbconvert_exporter": "python",
   "pygments_lexer": "ipython3",
   "version": "3.13.1"
  }
 },
 "nbformat": 4,
 "nbformat_minor": 5
}
